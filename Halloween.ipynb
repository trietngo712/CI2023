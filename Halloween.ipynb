{
 "cells": [
  {
   "cell_type": "markdown",
   "id": "185f9931-b384-4fdc-a5b2-eea785428bb8",
   "metadata": {},
   "source": [
    "Copyright **`(c)`** 2023 Giovanni Squillero `<giovanni.squillero@polito.it>`  \n",
    "[`https://github.com/squillero/computational-intelligence`](https://github.com/squillero/computational-intelligence)  \n",
    "Free for personal or classroom use; see [`LICENSE.md`](https://github.com/squillero/computational-intelligence/blob/master/LICENSE.md) for details.  "
   ]
  },
  {
   "cell_type": "code",
   "execution_count": 4,
   "id": "3ffe7245-e849-41d0-9698-5f0e0b83fee9",
   "metadata": {},
   "outputs": [],
   "source": [
    "from itertools import product\n",
    "from random import random, randint, shuffle, seed, choice\n",
    "import numpy as np\n",
    "from scipy import sparse\n",
    "from copy import copy\n",
    "from functools import reduce\n",
    "import gurobipy as gp\n",
    "from gurobipy import GRB\n",
    "import math\n"
   ]
  },
  {
   "cell_type": "code",
   "execution_count": 2,
   "id": "6f03bd67-78a0-4d72-95b7-77a918727b91",
   "metadata": {},
   "outputs": [],
   "source": [
    "def make_set_covering_problem(num_points, num_sets, density):\n",
    "    \"\"\"Returns a sparse array where rows are sets and columns are the covered items\"\"\"\n",
    "    seed(num_points*2654435761+num_sets+density)\n",
    "    sets = sparse.lil_array((num_sets, num_points), dtype=bool)\n",
    "    for s, p in product(range(num_sets), range(num_points)):\n",
    "        if random() < density:\n",
    "            sets[s, p] = True\n",
    "    for p in range(num_points):\n",
    "        sets[randint(0, num_sets-1), p] = True\n",
    "    return sets"
   ]
  },
  {
   "cell_type": "markdown",
   "id": "82b0be37-21d9-492d-9a1d-cf0cdf0ddd76",
   "metadata": {},
   "source": [
    "# Halloween Challenge\n",
    "\n",
    "Find the best solution with the fewest calls to the fitness functions for:\n",
    "\n",
    "* `num_points = [100, 1_000, 5_000]`\n",
    "* `num_sets = num_points`\n",
    "* `density = [.3, .7]` "
   ]
  },
  {
   "cell_type": "code",
   "execution_count": 3,
   "id": "221ffdba-5d3d-48cc-bd08-45ccc9366ea6",
   "metadata": {},
   "outputs": [
    {
     "name": "stdout",
     "output_type": "stream",
     "text": [
      "Element at row=42 and column=42: False\n"
     ]
    }
   ],
   "source": [
    "x = make_set_covering_problem(1000, 1000, .3)\n",
    "print(\"Element at row=42 and column=42:\", x[42, 42])"
   ]
  },
  {
   "cell_type": "markdown",
   "id": "e6f5aad9",
   "metadata": {},
   "source": [
    "#### Fitness function"
   ]
  },
  {
   "cell_type": "code",
   "execution_count": 3,
   "id": "c85e5944",
   "metadata": {},
   "outputs": [],
   "source": [
    "def fitness(state, instance):\n",
    "    cost = sum(state)\n",
    "    valid = np.sum(\n",
    "        reduce(\n",
    "            np.logical_or,\n",
    "            [un_sparse(instance, i) for i, t in enumerate(state) if t],\n",
    "            np.array([False for _ in range(instance.shape[1])]),\n",
    "        )\n",
    "    )\n",
    "    \n",
    "    return valid, -cost\n",
    "\n",
    "def un_sparse(instance, i):\n",
    "    a = []\n",
    "    num_points = instance.shape[1]\n",
    "\n",
    "    for j in range(num_points):\n",
    "        a.append(instance[i,j])\n",
    "\n",
    "    return np.array(a)"
   ]
  },
  {
   "cell_type": "markdown",
   "id": "c08c50ff",
   "metadata": {},
   "source": [
    "#### Generate instances"
   ]
  },
  {
   "cell_type": "code",
   "execution_count": 7,
   "id": "38507e81",
   "metadata": {},
   "outputs": [],
   "source": [
    "x_100_3 = make_set_covering_problem(100, 100, 0.3) #solution 5\n",
    "x_100_7 = make_set_covering_problem(100, 100, 0.7)\n",
    "x_1000_3 = make_set_covering_problem(1000, 1000, 0.3) #solution 10\n",
    "x_1000_7 = make_set_covering_problem(1000, 1000, 0.7)\n",
    "x_5000_3 = make_set_covering_problem(5000, 5000, 0.3)\n",
    "x_5000_7 = make_set_covering_problem(5000, 5000, 0.3)"
   ]
  },
  {
   "cell_type": "markdown",
   "id": "ff7b3660",
   "metadata": {},
   "source": [
    "## Hill Climbing"
   ]
  },
  {
   "cell_type": "code",
   "execution_count": 5,
   "id": "6492337b-8429-472d-9c3e-c79c5b46da54",
   "metadata": {},
   "outputs": [],
   "source": [
    "def hill_climbing(instance, init = None, num_flip = 1):\n",
    "    if init is None:\n",
    "        current_state = [choice([False]) for _ in range(instance.shape[1])]\n",
    "    else:\n",
    "        current_state = init\n",
    "    num_points = instance.shape[1]\n",
    "\n",
    "    current_covered = 0\n",
    "    current_cost = -math.inf\n",
    "    num_call = 0\n",
    "\n",
    "    for _ in range(1000):\n",
    "        new_state = tweak(current_state, instance,  num_flip)\n",
    "        #print(f'new state: {fitness(new_state, instance)}')\n",
    "        new_covered, new_cost = fitness(new_state, instance)\n",
    "        num_call = num_call + 1\n",
    "\n",
    "        if  new_covered > current_covered:\n",
    "            current_state = new_state\n",
    "            current_covered = new_covered\n",
    "            current_cost = new_cost\n",
    "            best_num_call = num_call\n",
    "        else:\n",
    "            if (new_covered == current_covered) and (new_cost > current_cost):\n",
    "                current_state = new_state\n",
    "                current_covered = new_covered\n",
    "                current_cost = new_cost\n",
    "                best_num_call = num_call\n",
    "\n",
    "\n",
    "    \n",
    "    \n",
    "    return (current_covered, current_cost, best_num_call)\n",
    "\n",
    "def tweak(state, instance, num_flip = 1):\n",
    "    new_state = copy(state)\n",
    "    indices = [randint(0, instance.shape[1] - 1) for _ in range(num_flip)]\n",
    "\n",
    "    for i in indices:\n",
    "        new_state[i] = not new_state[i]\n",
    "    return new_state"
   ]
  },
  {
   "cell_type": "markdown",
   "id": "cba55f55",
   "metadata": {},
   "source": [
    "## Integer Programming"
   ]
  },
  {
   "cell_type": "code",
   "execution_count": 28,
   "id": "f15a6f03",
   "metadata": {},
   "outputs": [],
   "source": [
    "def integer_programming(instance):\n",
    "    var_len = instance.shape[0]\n",
    "    constr_len = instance.shape[1]\n",
    "    model = gp.Model('Set Covering')\n",
    "    model.setParam('TimeLimit', 5*60)\n",
    "\n",
    "    X = model.addMVar(var_len, vtype=GRB.BINARY, name = 'X')\n",
    "    A = np.array(instance.toarray(), dtype = int).T\n",
    "\n",
    "    model.setObjective(X.sum(), GRB.MINIMIZE)\n",
    "    model.addConstr( A @ X >= np.ones(constr_len))\n",
    "\n",
    "    model.update()\n",
    "    model.optimize()\n",
    "\n",
    "    X_sol = []\n",
    "    for v in model.getVars():\n",
    "        X_sol.append(v.X)\n",
    "\n",
    "    return sum(X_sol)"
   ]
  },
  {
   "cell_type": "code",
   "execution_count": 12,
   "id": "560f5357",
   "metadata": {},
   "outputs": [
    {
     "name": "stdout",
     "output_type": "stream",
     "text": [
      "Set parameter TimeLimit to value 300\n",
      "Gurobi Optimizer version 10.0.3 build v10.0.3rc0 (win64)\n",
      "\n",
      "CPU model: Intel(R) Core(TM) i5-8250U CPU @ 1.60GHz, instruction set [SSE2|AVX|AVX2]\n",
      "Thread count: 4 physical cores, 8 logical processors, using up to 8 threads\n",
      "\n",
      "Optimize a model with 100 rows, 100 columns and 3066 nonzeros\n",
      "Model fingerprint: 0x65667521\n",
      "Variable types: 0 continuous, 100 integer (100 binary)\n",
      "Coefficient statistics:\n",
      "  Matrix range     [1e+00, 1e+00]\n",
      "  Objective range  [1e+00, 1e+00]\n",
      "  Bounds range     [1e+00, 1e+00]\n",
      "  RHS range        [1e+00, 1e+00]\n",
      "Found heuristic solution: objective 9.0000000\n",
      "Presolve time: 0.00s\n",
      "Presolved: 100 rows, 100 columns, 3066 nonzeros\n",
      "Variable types: 0 continuous, 100 integer (100 binary)\n",
      "\n",
      "Root relaxation: objective 3.329505e+00, 180 iterations, 0.01 seconds (0.01 work units)\n",
      "\n",
      "    Nodes    |    Current Node    |     Objective Bounds      |     Work\n",
      " Expl Unexpl |  Obj  Depth IntInf | Incumbent    BestBd   Gap | It/Node Time\n",
      "\n",
      "     0     0    3.32951    0   45    9.00000    3.32951  63.0%     -    0s\n",
      "H    0     0                       7.0000000    3.32951  52.4%     -    0s\n",
      "H    0     0                       6.0000000    3.32951  44.5%     -    0s\n",
      "     0     0    3.45627    0   55    6.00000    3.45627  42.4%     -    0s\n",
      "     0     0    3.46980    0   50    6.00000    3.46980  42.2%     -    0s\n",
      "     0     0    3.59642    0   54    6.00000    3.59642  40.1%     -    0s\n",
      "     0     2    3.59642    0   54    6.00000    3.59642  40.1%     -    0s\n",
      "* 1726   127               7       5.0000000    4.74993  5.00%  22.8    0s\n",
      "\n",
      "Cutting planes:\n",
      "  Gomory: 1\n",
      "  MIR: 24\n",
      "\n",
      "Explored 1746 nodes (40071 simplex iterations) in 0.97 seconds (0.90 work units)\n",
      "Thread count was 8 (of 8 available processors)\n",
      "\n",
      "Solution count 4: 5 6 7 9 \n",
      "\n",
      "Optimal solution found (tolerance 1.00e-04)\n",
      "Best objective 5.000000000000e+00, best bound 5.000000000000e+00, gap 0.0000%\n"
     ]
    }
   ],
   "source": [
    "result_100_3 = integer_programming(x_100_3)\n",
    "result_1000_3 = integer_programming(x_1000_3)\n",
    "result_5000_3 = integer_programming(x_5000_3)\n",
    "result_100_7 = integer_programming(x_100_7)\n",
    "result_1000_7 = integer_programming(x_1000_7)\n",
    "result_5000_7 = integer_programming(x_5000_7)\n",
    "\n",
    "print(f'integer programming')\n",
    "print(f'size 100 density 0.3 : {result_100_3}')\n",
    "print(f'size 1000 density 0.3 : {result_1000_3}')\n",
    "print(f'size 5000 density 0.3 : {result_5000_3}')\n",
    "print(f'size 100 density 0.7 : {result_100_7}')\n",
    "print(f'size 1000 density 0.7 : {result_1000_7}')\n",
    "print(f'size 5000 density 0.7 : {result_5000_7}')"
   ]
  },
  {
   "cell_type": "code",
   "execution_count": 8,
   "id": "e3b17ec9",
   "metadata": {},
   "outputs": [
    {
     "name": "stdout",
     "output_type": "stream",
     "text": [
      "hill climbing\n",
      "size 100 density 0.3 : (100, -10, 13)\n",
      "size 1000 density 0.3 : (1000, -14, 788)\n",
      "size 5000 density 0.3 : (5000, -20, 597)\n"
     ]
    }
   ],
   "source": [
    "print(f'hill climbing')\n",
    "print(f'size 100 density 0.3 : {hill_climbing(x_100_3)}')\n",
    "print(f'size 1000 density 0.3 : {hill_climbing(x_1000_3)}')\n",
    "print(f'size 5000 density 0.3 : {hill_climbing(x_5000_3)}')\n",
    "# (coverd, cost, number of evaluation)"
   ]
  },
  {
   "cell_type": "markdown",
   "id": "53840616",
   "metadata": {},
   "source": [
    "## Simulated Annealing"
   ]
  },
  {
   "cell_type": "code",
   "execution_count": null,
   "id": "3f2cf589",
   "metadata": {},
   "outputs": [],
   "source": []
  }
 ],
 "metadata": {
  "kernelspec": {
   "display_name": "Python 3 (ipykernel)",
   "language": "python",
   "name": "python3"
  },
  "language_info": {
   "codemirror_mode": {
    "name": "ipython",
    "version": 3
   },
   "file_extension": ".py",
   "mimetype": "text/x-python",
   "name": "python",
   "nbconvert_exporter": "python",
   "pygments_lexer": "ipython3",
   "version": "3.11.5"
  }
 },
 "nbformat": 4,
 "nbformat_minor": 5
}
