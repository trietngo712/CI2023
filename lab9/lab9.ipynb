{
 "cells": [
  {
   "cell_type": "markdown",
   "metadata": {},
   "source": [
    "Copyright **`(c)`** 2023 Giovanni Squillero `<giovanni.squillero@polito.it>`  \n",
    "[`https://github.com/squillero/computational-intelligence`](https://github.com/squillero/computational-intelligence)  \n",
    "Free for personal or classroom use; see [`LICENSE.md`](https://github.com/squillero/computational-intelligence/blob/master/LICENSE.md) for details.  "
   ]
  },
  {
   "cell_type": "markdown",
   "metadata": {},
   "source": [
    "# LAB9\n",
    "\n",
    "Write a local-search algorithm (eg. an EA) able to solve the *Problem* instances 1, 2, 5, and 10 on a 1000-loci genomes, using a minimum number of fitness calls. That's all.\n",
    "\n",
    "### Deadlines:\n",
    "\n",
    "* Submission: Sunday, December 3 ([CET](https://www.timeanddate.com/time/zones/cet))\n",
    "* Reviews: Sunday, December 10 ([CET](https://www.timeanddate.com/time/zones/cet))\n",
    "\n",
    "Notes:\n",
    "\n",
    "* Reviews will be assigned  on Monday, December 4\n",
    "* You need to commit in order to be selected as a reviewer (ie. better to commit an empty work than not to commit)"
   ]
  },
  {
   "cell_type": "code",
   "execution_count": 27,
   "metadata": {},
   "outputs": [],
   "source": [
    "from random import choices\n",
    "from dataclasses import dataclass\n",
    "from copy import copy\n",
    "from random import randint, random, choice\n",
    "import lab9_lib"
   ]
  },
  {
   "cell_type": "code",
   "execution_count": 28,
   "metadata": {},
   "outputs": [
    {
     "name": "stdout",
     "output_type": "stream",
     "text": [
      "10010100111111010001110100010010001101101001101000: 9.14%\n",
      "10110110111100010001001010011001111101101111101011: 15.33%\n",
      "11111100011000111001000011101101001101100110111001: 19.13%\n",
      "11001100100010000000000000011000011010111001011010: 7.56%\n",
      "10011101111111100110000110011001101101000011111111: 19.11%\n",
      "10010100010011001100010110001010001101100011001010: 7.36%\n",
      "00101000110110000011000111111010001100101100101000: 15.56%\n",
      "01010101010100111001101101000001000101010001110011: 9.13%\n",
      "01010011100001011010111101010000110001001010111100: 15.33%\n",
      "11100100001011101001010000010100111111011100011010: 35.56%\n",
      "10\n"
     ]
    }
   ],
   "source": [
    "fitness = lab9_lib.make_problem(10)\n",
    "\n",
    "for n in range(10):\n",
    "    ind = choices([0, 1], k=50)\n",
    "    print(f\"{''.join(str(g) for g in ind)}: {fitness(ind):.2%}\")\n",
    "\n",
    "\n",
    "print(fitness.calls)"
   ]
  },
  {
   "cell_type": "code",
   "execution_count": 29,
   "metadata": {},
   "outputs": [],
   "source": [
    "POPULATION_SIZE = 30\n",
    "OFFSPRING_SIZE = 20\n",
    "TOURNAMENT_SIZE = 2\n",
    "MUTATION_PROBABILITY = .15\n",
    "\n",
    "SEQUENCE_LENGTH = 1000"
   ]
  },
  {
   "cell_type": "code",
   "execution_count": 30,
   "metadata": {},
   "outputs": [],
   "source": [
    "@dataclass\n",
    "class Individual:\n",
    "    fitness: float\n",
    "    genotype: list[bool]"
   ]
  },
  {
   "cell_type": "markdown",
   "metadata": {},
   "source": [
    "### Selection"
   ]
  },
  {
   "cell_type": "code",
   "execution_count": 31,
   "metadata": {},
   "outputs": [],
   "source": [
    "class Tournament():\n",
    "    def __init__(self, size):\n",
    "        self.size = size\n",
    "\n",
    "    def select(self, pop):\n",
    "        pool = [choice(pop) for _ in range(self.size)]\n",
    "        champion = max(pool, key=lambda i: i.fitness)\n",
    "        return champion\n"
   ]
  },
  {
   "cell_type": "markdown",
   "metadata": {},
   "source": [
    "### Mutation"
   ]
  },
  {
   "cell_type": "code",
   "execution_count": 32,
   "metadata": {},
   "outputs": [],
   "source": [
    "class BitFlip():\n",
    "    def __init__(self, sequence_length):\n",
    "        self.sequence_length = sequence_length\n",
    "    \n",
    "    def mutate(self, ind: Individual) -> Individual:\n",
    "        offspring = copy(ind)\n",
    "        pos = randint(0, self.sequence_length-1)\n",
    "        offspring.genotype[pos] = not offspring.genotype[pos]\n",
    "        offspring.fitness = None\n",
    "        \n",
    "        return offspring"
   ]
  },
  {
   "cell_type": "markdown",
   "metadata": {},
   "source": [
    "### Recombination"
   ]
  },
  {
   "cell_type": "code",
   "execution_count": 33,
   "metadata": {},
   "outputs": [],
   "source": [
    "class OnePointCrossover():\n",
    "    def __init__(self, sequence_length):\n",
    "        self.sequence_length = sequence_length\n",
    "\n",
    "    def recombine(self,ind1: Individual, ind2: Individual) -> Individual:\n",
    "        cut_point = randint(0, self.sequence_length-1)\n",
    "        offspring = Individual(fitness=None,\n",
    "                            genotype=ind1.genotype[:cut_point] + ind2.genotype[cut_point:])\n",
    "        assert len(offspring.genotype) == self.sequence_length\n",
    "        return offspring"
   ]
  },
  {
   "cell_type": "code",
   "execution_count": 34,
   "metadata": {},
   "outputs": [],
   "source": [
    "class EA_Simulation():\n",
    "    def __init__(self, population_size, offspring_size, fitness_eval,selection, mutation, recombination, num_gen = 100, mutation_prob = 0.15):\n",
    "        self.population_size = population_size\n",
    "        self.offspring_size = offspring_size\n",
    "        self.fitness_eval = fitness_eval\n",
    "        self.select_parent = lambda pop : selection.select(pop)\n",
    "        self.mutate = lambda ind : mutation.mutate(ind)\n",
    "        self.recombine = lambda ind1, ind2: recombination.recombine(ind1, ind2)\n",
    "        self.num_gen = num_gen\n",
    "        self.mutation_prob = mutation_prob\n",
    "\n",
    "    def set_inital_pop(self, population):\n",
    "        self.population = population\n",
    "\n",
    "    def simulate(self):\n",
    "        record = []\n",
    "\n",
    "        for _ in range(self.num_gen):\n",
    "            offspring = list()\n",
    "            for _ in range(OFFSPRING_SIZE):\n",
    "                if random() < MUTATION_PROBABILITY:  # self-adapt mutation probability\n",
    "                    # mutation  # add more clever mutations\n",
    "                    p = self.select_parent(self.population)\n",
    "                    o = self.mutate(p)\n",
    "                else:\n",
    "                    # xover # add more xovers\n",
    "                    p1 = self.select_parent(self.population)\n",
    "                    p2 = self.select_parent(self.population)\n",
    "                    o = self.recombine(p1, p2)\n",
    "                offspring.append(o)\n",
    "\n",
    "            for i in offspring:\n",
    "                i.fitness = fitness(i.genotype)\n",
    "            self.population.extend(offspring)\n",
    "            self.population.sort(key=lambda i: i.fitness, reverse=True)\n",
    "            self.population = self.population[:self.population_size]\n",
    "\n",
    "            record.append(self.population[0].fitness)\n",
    "\n",
    "        return record\n",
    "        \n",
    "\n",
    "        \n",
    "        "
   ]
  },
  {
   "cell_type": "markdown",
   "metadata": {},
   "source": [
    "### Initialize Population"
   ]
  },
  {
   "cell_type": "code",
   "execution_count": 35,
   "metadata": {},
   "outputs": [],
   "source": [
    "population = [\n",
    "    Individual(\n",
    "        genotype=[choice((False, False)) for _ in range(SEQUENCE_LENGTH)],\n",
    "        fitness=None,\n",
    "    )\n",
    "    for _ in range(POPULATION_SIZE)\n",
    "]\n",
    "\n",
    "for i in population:\n",
    "    i.fitness = fitness(i.genotype)"
   ]
  },
  {
   "cell_type": "markdown",
   "metadata": {},
   "source": [
    "### Experiment"
   ]
  },
  {
   "cell_type": "code",
   "execution_count": 36,
   "metadata": {},
   "outputs": [],
   "source": [
    "selection = Tournament(size = SEQUENCE_LENGTH)\n",
    "mutation = BitFlip(sequence_length= SEQUENCE_LENGTH)\n",
    "recombination = OnePointCrossover(sequence_length= SEQUENCE_LENGTH)\n",
    "\n",
    "sim = EA_Simulation(population_size=POPULATION_SIZE, offspring_size= OFFSPRING_SIZE, fitness_eval=fitness, selection=selection, mutation=mutation, recombination=recombination)\n",
    "\n",
    "sim.set_inital_pop(population)\n",
    "\n",
    "record = sim.simulate()"
   ]
  },
  {
   "cell_type": "code",
   "execution_count": 37,
   "metadata": {},
   "outputs": [
    {
     "data": {
      "text/plain": [
       "[0.001,\n",
       " 0.002,\n",
       " 0.002,\n",
       " 0.002,\n",
       " 0.002,\n",
       " 0.0029,\n",
       " 0.0029,\n",
       " 0.0038889999999999997,\n",
       " 0.00789,\n",
       " 0.009890000000000001,\n",
       " 0.009890000000000001,\n",
       " 0.0119,\n",
       " 0.0119,\n",
       " 0.0119,\n",
       " 0.0119,\n",
       " 0.0119,\n",
       " 0.0119,\n",
       " 0.0119,\n",
       " 0.014,\n",
       " 0.014,\n",
       " 0.014,\n",
       " 0.014,\n",
       " 0.014,\n",
       " 0.014,\n",
       " 0.014,\n",
       " 0.014,\n",
       " 0.014,\n",
       " 0.014,\n",
       " 0.014,\n",
       " 0.014,\n",
       " 0.014,\n",
       " 0.014,\n",
       " 0.014,\n",
       " 0.014,\n",
       " 0.014,\n",
       " 0.014,\n",
       " 0.014,\n",
       " 0.014,\n",
       " 0.014,\n",
       " 0.014,\n",
       " 0.014,\n",
       " 0.014,\n",
       " 0.014,\n",
       " 0.014,\n",
       " 0.016,\n",
       " 0.016,\n",
       " 0.016,\n",
       " 0.016,\n",
       " 0.016,\n",
       " 0.016,\n",
       " 0.016,\n",
       " 0.016,\n",
       " 0.016,\n",
       " 0.016,\n",
       " 0.016,\n",
       " 0.016,\n",
       " 0.016,\n",
       " 0.016,\n",
       " 0.016,\n",
       " 0.016,\n",
       " 0.016,\n",
       " 0.016,\n",
       " 0.016,\n",
       " 0.016,\n",
       " 0.016,\n",
       " 0.016,\n",
       " 0.016,\n",
       " 0.016,\n",
       " 0.016,\n",
       " 0.016,\n",
       " 0.016,\n",
       " 0.016,\n",
       " 0.016,\n",
       " 0.016,\n",
       " 0.016,\n",
       " 0.016,\n",
       " 0.016,\n",
       " 0.016,\n",
       " 0.016,\n",
       " 0.016,\n",
       " 0.016,\n",
       " 0.016,\n",
       " 0.016,\n",
       " 0.016,\n",
       " 0.016,\n",
       " 0.016,\n",
       " 0.016,\n",
       " 0.016,\n",
       " 0.016,\n",
       " 0.017779,\n",
       " 0.017779,\n",
       " 0.017779,\n",
       " 0.02079,\n",
       " 0.02079,\n",
       " 0.02079,\n",
       " 0.023899999999999998,\n",
       " 0.023899999999999998,\n",
       " 0.023899999999999998,\n",
       " 0.023899999999999998,\n",
       " 0.023899999999999998]"
      ]
     },
     "execution_count": 37,
     "metadata": {},
     "output_type": "execute_result"
    }
   ],
   "source": [
    "record"
   ]
  },
  {
   "cell_type": "code",
   "execution_count": null,
   "metadata": {},
   "outputs": [],
   "source": []
  }
 ],
 "metadata": {
  "kernelspec": {
   "display_name": "ci-fLJ3OwGs-py3.12",
   "language": "python",
   "name": "python3"
  },
  "language_info": {
   "codemirror_mode": {
    "name": "ipython",
    "version": 3
   },
   "file_extension": ".py",
   "mimetype": "text/x-python",
   "name": "python",
   "nbconvert_exporter": "python",
   "pygments_lexer": "ipython3",
   "version": "3.11.5"
  }
 },
 "nbformat": 4,
 "nbformat_minor": 2
}
