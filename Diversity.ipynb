{
 "cells": [
  {
   "cell_type": "markdown",
   "metadata": {},
   "source": [
    "# Promote diversity in Evolution Optimization"
   ]
  },
  {
   "cell_type": "markdown",
   "metadata": {},
   "source": [
    "### Divergence of character"
   ]
  },
  {
   "cell_type": "markdown",
   "metadata": {},
   "source": [
    "### Premature convergence \n",
    "- the tendency of an algorithm to converge towards a point where it was not supposed to converge to in the first place\n",
    "- Probably an oxymoron?\n",
    "- Holland's \"lack of speciation\"\n",
    "- EAs general inability to exploit environmental niches"
   ]
  },
  {
   "cell_type": "markdown",
   "metadata": {},
   "source": [
    "### Niches\n",
    "- Niche: subspace in the environment with a finite amount of physical resources that can support different \n",
    "- Niches favour the divergence of character\n",
    "- Niches and speciation\n",
    "- How to create niches iin EAs since the environment is missing\n",
    "\n",
    "- grouping similar individual:\n",
    "     - spatial position\n",
    "     - similar genotypes\n",
    "     - phenotypes\n",
    "- Explicit vs implicit neighbourhood\n",
    "- Several approaches are based on niching\n",
    "\n"
   ]
  },
  {
   "cell_type": "markdown",
   "metadata": {},
   "source": [
    "### Measuring diversity\n",
    "\n",
    "- diversity -> distance metric: how far the individual is from the population and a single individual\n",
    "- diversity as a property of the population\n",
    "\n"
   ]
  },
  {
   "cell_type": "markdown",
   "metadata": {},
   "source": [
    "### Mechanisms for promoting diversity"
   ]
  },
  {
   "cell_type": "markdown",
   "metadata": {},
   "source": [
    "- End goal vs Means goal\n",
    "\n",
    "- The end goal in opt is reaching better solution\n",
    "- Promoting diversity is mere means goal\n",
    "-> slow down to find better solution\n",
    "\n"
   ]
  }
 ],
 "metadata": {
  "language_info": {
   "name": "python"
  }
 },
 "nbformat": 4,
 "nbformat_minor": 2
}
