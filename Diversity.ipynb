{
 "cells": [
  {
   "cell_type": "markdown",
   "metadata": {},
   "source": [
    "# Promote diversity in Evolution Optimization"
   ]
  },
  {
   "cell_type": "markdown",
   "metadata": {},
   "source": [
    "### Divergence of character"
   ]
  },
  {
   "cell_type": "markdown",
   "metadata": {},
   "source": [
    "### Premature convergence \n",
    "- the tendency of an algorithm to converge towards a point where it was not supposed to converge to in the first place\n",
    "- Probably an oxymoron?\n",
    "- Holland's \"lack of speciation\"\n",
    "- EAs general inability to exploit environmental niches"
   ]
  },
  {
   "cell_type": "markdown",
   "metadata": {},
   "source": [
    "### Niches\n",
    "- Niche: subspace in the environment with a finite amount of physical resources that can support different \n",
    "- Niches favour the divergence of character\n",
    "- Niches and speciation\n",
    "- How to create niches iin EAs since the environment is missing\n",
    "\n",
    "- grouping similar individual:\n",
    "     - spatial position\n",
    "     - similar genotypes\n",
    "     - phenotypes\n",
    "- Explicit vs implicit neighbourhood\n",
    "- Several approaches are based on niching\n",
    "\n"
   ]
  },
  {
   "cell_type": "markdown",
   "metadata": {},
   "source": [
    "### Measuring diversity\n",
    "\n",
    "- diversity -> distance metric: how far the individual is from the population and a single individual\n",
    "- diversity as a property of the population\n",
    "\n"
   ]
  },
  {
   "cell_type": "markdown",
   "metadata": {},
   "source": [
    "### Mechanisms for promoting diversity"
   ]
  },
  {
   "cell_type": "markdown",
   "metadata": {},
   "source": [
    "- End goal vs Means goal\n",
    "\n",
    "- The end goal in opt is reaching better solution\n",
    "- Promoting diversity is mere means goal\n",
    "-> slow down to find better solution\n",
    "\n"
   ]
  },
  {
   "cell_type": "markdown",
   "metadata": {},
   "source": [
    "### Relevent characteristic\n",
    "\n",
    "- Linage\n",
    "- Phenotype\n",
    "- Genotype\n",
    "- Fitness xxx (used a s a proxy for either phenotype or genotype)\n",
    "\n",
    "$$ \\xi(x,\\Psi) $$\n",
    "\n"
   ]
  },
  {
   "cell_type": "markdown",
   "metadata": {},
   "source": [
    "### Linage-based methodologies\n",
    "\n",
    "- The value of $\\xi()$ does not depend on individual structure ...\n",
    "\n",
    "### Genotype-based methodologies\n",
    "-> meaningful distance between genotypes\n",
    "\n",
    "### Phenotype-based methodologies\n",
    "- Usually impractical\n",
    "\n",
    "### Type of selection\n",
    "- Parent selection ($\\alpha$)\n",
    "- Usually non deterministic\n",
    "\n",
    "- Survival selection ($\\omega$)\n",
    "- Usually deterministic"
   ]
  },
  {
   "cell_type": "markdown",
   "metadata": {},
   "source": [
    "### Island model\n",
    "\n",
    "Recipe LIN $\\alpha \\omega$\n",
    "- The population is partitioned into sub populations\n",
    "- Only local interactions are allowed\n",
    "- Periodically, migrants are moved between sub populations\n",
    "\n",
    "- Rationale:\n",
    "    - Different populatins may explore different parts of the search space\n",
    "    - But global interactions can be useful"
   ]
  },
  {
   "cell_type": "markdown",
   "metadata": {},
   "source": []
  }
 ],
 "metadata": {
  "language_info": {
   "name": "python"
  }
 },
 "nbformat": 4,
 "nbformat_minor": 2
}
