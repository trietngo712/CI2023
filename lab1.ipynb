{
 "cells": [
  {
   "cell_type": "markdown",
   "metadata": {},
   "source": [
    "# LAB 1 - A* SEARCH"
   ]
  },
  {
   "cell_type": "markdown",
   "metadata": {},
   "source": [
    "### Import\n",
    "---"
   ]
  },
  {
   "cell_type": "code",
   "execution_count": 1,
   "metadata": {},
   "outputs": [],
   "source": [
    "from random import random\n",
    "from functools import reduce\n",
    "from collections import namedtuple\n",
    "from queue import PriorityQueue, SimpleQueue, LifoQueue\n",
    "\n",
    "import numpy as np\n",
    "from math import ceil\n",
    "from tqdm.auto import tqdm\n",
    "import random\n"
   ]
  },
  {
   "cell_type": "markdown",
   "metadata": {},
   "source": [
    "### Problem specification\n",
    "---"
   ]
  },
  {
   "cell_type": "code",
   "execution_count": 2,
   "metadata": {},
   "outputs": [],
   "source": [
    "class Instance():\n",
    "    State = namedtuple('State', ['taken', 'not_taken'])\n",
    "\n",
    "    def __init__(self, PROBLEM_SIZE = 20, NUM_SETS = 40, DENSITY = 0.3):\n",
    "        self.PROBLEM_SIZE = PROBLEM_SIZE\n",
    "        self.NUM_SETS = NUM_SETS\n",
    "        self.DENSITY = DENSITY\n",
    "        #self.SETS = tuple(np.array([random.random() < self.DENSITY for _ in range(PROBLEM_SIZE)]) for _ in range(NUM_SETS))\n",
    "        #self.SETS = tuple(np.random.random(self.PROBLEM_SIZE) < self.DENSITY for _ in range(NUM_SETS))\n",
    "        self.set_generator()\n",
    "\n",
    "    def set_generator(self):\n",
    "        sets = []\n",
    "        for seed in range(self.NUM_SETS):\n",
    "            np.random.seed(seed)\n",
    "            sets.append(np.random.random(self.PROBLEM_SIZE) < self.DENSITY)\n",
    "        \n",
    "        self.SETS = tuple(sets)\n",
    "    def re_seed(self, mul = 1):\n",
    "        sets = []\n",
    "        for seed in range(self.NUM_SETS):\n",
    "            np.random.seed(mul * seed)\n",
    "            sets.append(np.random.random(self.PROBLEM_SIZE) < self.DENSITY)\n",
    "        \n",
    "        self.SETS = tuple(sets)\n",
    "\n",
    "    def covered(self, state):\n",
    "        return reduce(np.logical_or, [self.SETS[i] for i in state.taken], np.array([False for _ in range(self.PROBLEM_SIZE)]))\n",
    "\n",
    "    def goal_check(self, state):\n",
    "        boolean_val =  np.all(self.covered(state))\n",
    "        assert not (boolean_val is False and len(state.not_taken) == 0), \"Problem not solvable\"\n",
    "\n",
    "        return boolean_val\n",
    "    \n",
    "    def __str__(self) -> str:\n",
    "        return f'size:{self.PROBLEM_SIZE}_numset:{self.NUM_SETS}_density:{self.DENSITY}'\n",
    "    \n",
    "\n",
    "class A_star():\n",
    "    def __init__(self):\n",
    "        pass\n",
    "\n",
    "    def Search(self, instance, chosen_key):\n",
    "        frontier = PriorityQueue()\n",
    "        init = Instance.State(set(), set(range(instance.NUM_SETS)))\n",
    "        frontier.put((chosen_key.f(init), init))\n",
    "\n",
    "        counter = 0\n",
    "        k, current_state = frontier.get()\n",
    "        while not instance.goal_check(current_state):\n",
    "            counter += 1\n",
    "            for action in current_state[1]:\n",
    "                new_state = Instance.State(current_state.taken ^ {action}, current_state.not_taken - {action})\n",
    "                frontier.put((chosen_key.f(new_state),new_state))\n",
    "            k, current_state = frontier.get()\n",
    "\n",
    "        \n",
    "        return counter, current_state\n",
    "\n",
    "class key():\n",
    "    def __init__(self, g, h):\n",
    "        self.g = g\n",
    "        self.h = h\n",
    "\n",
    "    def f(self, state):\n",
    "        return self.g(state) + self.h(state)\n",
    "    \n",
    "    "
   ]
  },
  {
   "cell_type": "markdown",
   "metadata": {},
   "source": [
    "### Functions\n",
    "---"
   ]
  },
  {
   "cell_type": "markdown",
   "metadata": {},
   "source": [
    "#### H function"
   ]
  },
  {
   "cell_type": "markdown",
   "metadata": {},
   "source": [
    "- this is professor's h functions"
   ]
  },
  {
   "cell_type": "code",
   "execution_count": 3,
   "metadata": {},
   "outputs": [],
   "source": [
    "def h1(instance, state):\n",
    "    largest_set_size = max(sum(s) for s in instance.SETS)\n",
    "    missing_size = instance.PROBLEM_SIZE - sum(instance.covered(state))\n",
    "    optimistic_estimate = ceil(missing_size/largest_set_size)\n",
    "    return optimistic_estimate\n",
    "\n",
    "def h2(instance, state):\n",
    "    already_covered = instance.covered(state)\n",
    "    if np.all(already_covered):\n",
    "        return 0\n",
    "    largest_set_size = max(sum(np.logical_and(s, np.logical_not(already_covered))) for s in instance.SETS)\n",
    "    missing_size = instance.PROBLEM_SIZE - sum(already_covered)\n",
    "    optimistic_estimate = ceil(missing_size/largest_set_size)\n",
    "    return optimistic_estimate\n",
    "\n",
    "def h3(instance, state):\n",
    "    already_covered = instance.covered(state)\n",
    "    if np.all(already_covered):\n",
    "        return 0\n",
    "    missing_size = instance.PROBLEM_SIZE - sum(already_covered)\n",
    "    candidates = sorted((sum(np.logical_and(s, np.logical_not(already_covered))) for s in instance.SETS), reverse=True)\n",
    "    taken = 1\n",
    "    while sum(candidates[:taken]) < missing_size:\n",
    "        taken += 1\n",
    "    return taken"
   ]
  },
  {
   "cell_type": "markdown",
   "metadata": {},
   "source": [
    "- this is my h function"
   ]
  },
  {
   "cell_type": "code",
   "execution_count": 4,
   "metadata": {},
   "outputs": [],
   "source": [
    "def h4(instance, state):\n",
    "    return max(h2(instance, state), h3(instance, state))\n",
    "\n",
    "def distance(instance, state):\n",
    "    return  instance.PROBLEM_SIZE - sum(instance.covered(state))\n"
   ]
  },
  {
   "cell_type": "markdown",
   "metadata": {},
   "source": [
    "### Experiments\n",
    "---"
   ]
  },
  {
   "cell_type": "markdown",
   "metadata": {},
   "source": [
    "#### Default instance (small) + h1\n"
   ]
  },
  {
   "cell_type": "code",
   "execution_count": 5,
   "metadata": {},
   "outputs": [
    {
     "name": "stdout",
     "output_type": "stream",
     "text": [
      "size:20_numset:40_density:0.3\n",
      "heuristic function: h1\n",
      "step: 101\n",
      "State(taken={36, 21, 15}, not_taken={0, 1, 2, 3, 4, 5, 6, 7, 8, 9, 10, 11, 12, 13, 14, 16, 17, 18, 19, 20, 22, 23, 24, 25, 26, 27, 28, 29, 30, 31, 32, 33, 34, 35, 37, 38, 39})\n"
     ]
    }
   ],
   "source": [
    "default_instance = Instance()\n",
    "\n",
    "g = lambda state: len(state.taken)\n",
    "h = lambda s: h1(default_instance,s)\n",
    "k = key(g,h)\n",
    "\n",
    "solver = A_star()\n",
    "number_of_step , result = solver.Search(default_instance, k)\n",
    "\n",
    "print(default_instance)\n",
    "print('heuristic function: h1')\n",
    "print(f'step: {number_of_step}')\n",
    "print(result)"
   ]
  },
  {
   "cell_type": "markdown",
   "metadata": {},
   "source": [
    "#### Default instance (small) + h2\n"
   ]
  },
  {
   "cell_type": "code",
   "execution_count": 6,
   "metadata": {},
   "outputs": [
    {
     "name": "stdout",
     "output_type": "stream",
     "text": [
      "size:20_numset:40_density:0.3\n",
      "heuristic function: h2\n",
      "step: 14\n",
      "State(taken={2, 35, 31}, not_taken={0, 1, 3, 4, 5, 6, 7, 8, 9, 10, 11, 12, 13, 14, 15, 16, 17, 18, 19, 20, 21, 22, 23, 24, 25, 26, 27, 28, 29, 30, 32, 33, 34, 36, 37, 38, 39})\n"
     ]
    }
   ],
   "source": [
    "default_instance = Instance()\n",
    "\n",
    "g = lambda state: len(state.taken)\n",
    "h = lambda s: h2(default_instance,s)\n",
    "k = key(g,h)\n",
    "\n",
    "solver = A_star()\n",
    "number_of_step , result = solver.Search(default_instance, k)\n",
    "\n",
    "print(default_instance)\n",
    "print('heuristic function: h2')\n",
    "print(f'step: {number_of_step}')\n",
    "print(result)"
   ]
  },
  {
   "cell_type": "markdown",
   "metadata": {},
   "source": [
    "#### Default instance (small) + h3\n"
   ]
  },
  {
   "cell_type": "code",
   "execution_count": 7,
   "metadata": {},
   "outputs": [
    {
     "name": "stdout",
     "output_type": "stream",
     "text": [
      "size:20_numset:40_density:0.3\n",
      "heuristic function: h3\n",
      "step: 14\n",
      "State(taken={2, 35, 31}, not_taken={0, 1, 3, 4, 5, 6, 7, 8, 9, 10, 11, 12, 13, 14, 15, 16, 17, 18, 19, 20, 21, 22, 23, 24, 25, 26, 27, 28, 29, 30, 32, 33, 34, 36, 37, 38, 39})\n"
     ]
    }
   ],
   "source": [
    "default_instance = Instance()\n",
    "\n",
    "g = lambda state: len(state.taken)\n",
    "h = lambda s: h3(default_instance,s)\n",
    "k = key(g,h)\n",
    "\n",
    "solver = A_star()\n",
    "number_of_step , result = solver.Search(default_instance, k)\n",
    "\n",
    "print(default_instance)\n",
    "print('heuristic function: h3')\n",
    "print(f'step: {number_of_step}')\n",
    "print(result)"
   ]
  },
  {
   "cell_type": "markdown",
   "metadata": {},
   "source": [
    "#### Default instance (small) + h4\n"
   ]
  },
  {
   "cell_type": "code",
   "execution_count": 8,
   "metadata": {},
   "outputs": [
    {
     "name": "stdout",
     "output_type": "stream",
     "text": [
      "size:20_numset:40_density:0.3\n",
      "heuristic function: h4\n",
      "step: 14\n",
      "State(taken={2, 35, 31}, not_taken={0, 1, 3, 4, 5, 6, 7, 8, 9, 10, 11, 12, 13, 14, 15, 16, 17, 18, 19, 20, 21, 22, 23, 24, 25, 26, 27, 28, 29, 30, 32, 33, 34, 36, 37, 38, 39})\n"
     ]
    }
   ],
   "source": [
    "default_instance = Instance()\n",
    "\n",
    "g = lambda state: len(state.taken)\n",
    "h = lambda s: h4(default_instance,s)\n",
    "k = key(g,h)\n",
    "\n",
    "solver = A_star()\n",
    "number_of_step , result = solver.Search(default_instance, k)\n",
    "\n",
    "print(default_instance)\n",
    "print('heuristic function: h4')\n",
    "print(f'step: {number_of_step}')\n",
    "print(result)"
   ]
  },
  {
   "cell_type": "markdown",
   "metadata": {},
   "source": [
    "#### Large instance"
   ]
  },
  {
   "cell_type": "code",
   "execution_count": 9,
   "metadata": {},
   "outputs": [
    {
     "name": "stdout",
     "output_type": "stream",
     "text": [
      "size:40_numset:80_density:0.3\n",
      "heuristic function: h2\n",
      "step: 427\n",
      "State(taken={48, 74, 11, 62}, not_taken={0, 1, 2, 3, 4, 5, 6, 7, 8, 9, 10, 12, 13, 14, 15, 16, 17, 18, 19, 20, 21, 22, 23, 24, 25, 26, 27, 28, 29, 30, 31, 32, 33, 34, 35, 36, 37, 38, 39, 40, 41, 42, 43, 44, 45, 46, 47, 49, 50, 51, 52, 53, 54, 55, 56, 57, 58, 59, 60, 61, 63, 64, 65, 66, 67, 68, 69, 70, 71, 72, 73, 75, 76, 77, 78, 79})\n"
     ]
    }
   ],
   "source": [
    "large_instance = Instance(40,80)\n",
    "\n",
    "g = lambda state: len(state.taken)\n",
    "h = lambda s: h2(large_instance,s)\n",
    "k = key(g,h)\n",
    "\n",
    "solver = A_star()\n",
    "number_of_step , result = solver.Search(large_instance, k)\n",
    "\n",
    "print(large_instance)\n",
    "print('heuristic function: h2')\n",
    "print(f'step: {number_of_step}')\n",
    "print(result)"
   ]
  },
  {
   "cell_type": "code",
   "execution_count": 10,
   "metadata": {},
   "outputs": [
    {
     "name": "stdout",
     "output_type": "stream",
     "text": [
      "size:40_numset:80_density:0.3\n",
      "heuristic function: h3\n",
      "step: 789\n",
      "State(taken={1, 66, 35, 5}, not_taken={0, 2, 3, 4, 6, 7, 8, 9, 10, 11, 12, 13, 14, 15, 16, 17, 18, 19, 20, 21, 22, 23, 24, 25, 26, 27, 28, 29, 30, 31, 32, 33, 34, 36, 37, 38, 39, 40, 41, 42, 43, 44, 45, 46, 47, 48, 49, 50, 51, 52, 53, 54, 55, 56, 57, 58, 59, 60, 61, 62, 63, 64, 65, 67, 68, 69, 70, 71, 72, 73, 74, 75, 76, 77, 78, 79})\n"
     ]
    }
   ],
   "source": [
    "large_instance = Instance(40,80)\n",
    "\n",
    "g = lambda state: len(state.taken)\n",
    "h = lambda s: h3(large_instance,s)\n",
    "k = key(g,h)\n",
    "\n",
    "solver = A_star()\n",
    "number_of_step , result = solver.Search(large_instance, k)\n",
    "\n",
    "print(large_instance)\n",
    "print('heuristic function: h3')\n",
    "print(f'step: {number_of_step}')\n",
    "print(result)"
   ]
  },
  {
   "cell_type": "code",
   "execution_count": 11,
   "metadata": {},
   "outputs": [
    {
     "name": "stdout",
     "output_type": "stream",
     "text": [
      "size:40_numset:80_density:0.3\n",
      "heuristic function: distance\n",
      "step: 789\n",
      "State(taken={1, 66, 35, 5}, not_taken={0, 2, 3, 4, 6, 7, 8, 9, 10, 11, 12, 13, 14, 15, 16, 17, 18, 19, 20, 21, 22, 23, 24, 25, 26, 27, 28, 29, 30, 31, 32, 33, 34, 36, 37, 38, 39, 40, 41, 42, 43, 44, 45, 46, 47, 48, 49, 50, 51, 52, 53, 54, 55, 56, 57, 58, 59, 60, 61, 62, 63, 64, 65, 67, 68, 69, 70, 71, 72, 73, 74, 75, 76, 77, 78, 79})\n"
     ]
    }
   ],
   "source": [
    "large_instance = Instance(40,80)\n",
    "\n",
    "g = lambda state: len(state.taken)\n",
    "h = lambda s: h4(large_instance, s)\n",
    "k = key(g,h)\n",
    "\n",
    "solver = A_star()\n",
    "number_of_step , result = solver.Search(large_instance, k)\n",
    "\n",
    "print(large_instance)\n",
    "print('heuristic function: distance')\n",
    "print(f'step: {number_of_step}')\n",
    "print(result)"
   ]
  },
  {
   "cell_type": "code",
   "execution_count": null,
   "metadata": {},
   "outputs": [],
   "source": []
  },
  {
   "cell_type": "code",
   "execution_count": null,
   "metadata": {},
   "outputs": [],
   "source": []
  }
 ],
 "metadata": {
  "kernelspec": {
   "display_name": "CI2023",
   "language": "python",
   "name": "python3"
  },
  "language_info": {
   "codemirror_mode": {
    "name": "ipython",
    "version": 3
   },
   "file_extension": ".py",
   "mimetype": "text/x-python",
   "name": "python",
   "nbconvert_exporter": "python",
   "pygments_lexer": "ipython3",
   "version": "3.11.5"
  }
 },
 "nbformat": 4,
 "nbformat_minor": 2
}
