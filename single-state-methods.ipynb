{
 "cells": [
  {
   "cell_type": "markdown",
   "metadata": {},
   "source": [
    "# Single-State Local Search\n"
   ]
  },
  {
   "cell_type": "code",
   "execution_count": 10,
   "metadata": {},
   "outputs": [
    {
     "data": {
      "text/plain": [
       "[(1, 's'), (1, 'o'), (2, 's'), (2, 'o'), 1, 2]"
      ]
     },
     "execution_count": 10,
     "metadata": {},
     "output_type": "execute_result"
    }
   ],
   "source": [
    "import itertools\n",
    "\n",
    "[a for a in itertools.product((1,2), ('s','o'))] + [1,2]"
   ]
  },
  {
   "cell_type": "markdown",
   "metadata": {},
   "source": [
    "\n",
    "- Sometimes we are only interested in the solution \n",
    "- Start with a state (possibly illegal)\n",
    "- Iteratively improve/patch it in the neighboring states\n",
    "- Boldly go toward the goal (A* search) vs Wandering around"
   ]
  },
  {
   "cell_type": "markdown",
   "metadata": {},
   "source": [
    "## Hill Climbing\n",
    "\n",
    "- Search for a solution or solve optimization problem\n",
    "- Closely related to gradient descent\n",
    "    - does not require the gradient\n",
    "    - Iteratively test new candidate solutions in the region of a candidate\n",
    "- Adopt the new ones only if they are an improvement\n",
    "- Quickly climb up to the first local optimum\n",
    "\n",
    "- (First improvment, Random Mutation, Steepest step) +  Hill climber\n",
    "\n",
    "### pseudo code\n",
    "1. n <- number of tweaks desired to sample the gradient\n",
    "1. S <- some initial candidate solution\n",
    "\n",
    "2. repeat\n",
    "    -  R <- Tweak(Copy(S))\n",
    "    - for n - 1  times:\n",
    "        - W <- Tweak(Copy(S))\n",
    "        - if Quality(W) > Quality(R):\n",
    "            - R := W\n",
    "    - if Quality(R) >  Quality(S):\n",
    "        - S := R\n"
   ]
  },
  {
   "cell_type": "markdown",
   "metadata": {},
   "source": []
  },
  {
   "cell_type": "markdown",
   "metadata": {},
   "source": [
    "## ES"
   ]
  },
  {
   "cell_type": "markdown",
   "metadata": {},
   "source": [
    "### Self-adaptation\n",
    "\n",
    "Add $\\sigma$ to the list of parameters (v1,...,vn, $\\sigma$)\n",
    "\n",
    "Mutate $\\sigma$ and v in different steps\n",
    "\n",
    "- learning rate: $\\tau \\sim 1/\\sqrt{n}$\n",
    "- $\\sigma' = \\sigma . e ^ {\\tau N(0,1)} $\n"
   ]
  },
  {
   "cell_type": "markdown",
   "metadata": {},
   "source": []
  },
  {
   "cell_type": "markdown",
   "metadata": {},
   "source": []
  },
  {
   "cell_type": "markdown",
   "metadata": {},
   "source": []
  },
  {
   "cell_type": "markdown",
   "metadata": {},
   "source": []
  }
 ],
 "metadata": {
  "kernelspec": {
   "display_name": "CI2023",
   "language": "python",
   "name": "python3"
  },
  "language_info": {
   "codemirror_mode": {
    "name": "ipython",
    "version": 3
   },
   "file_extension": ".py",
   "mimetype": "text/x-python",
   "name": "python",
   "nbconvert_exporter": "python",
   "pygments_lexer": "ipython3",
   "version": "3.11.5"
  }
 },
 "nbformat": 4,
 "nbformat_minor": 2
}
