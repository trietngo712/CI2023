{
 "cells": [
  {
   "cell_type": "markdown",
   "metadata": {},
   "source": [
    "# Single-State Local Search\n"
   ]
  },
  {
   "cell_type": "markdown",
   "metadata": {},
   "source": [
    "\n",
    "- Sometimes we are only interested in the solution \n",
    "- Start with a state (possibly illegal)\n",
    "- Iteratively improve/patch it in the neighboring states\n",
    "- Boldly go toward the goal (A* search) vs Wandering around"
   ]
  },
  {
   "cell_type": "markdown",
   "metadata": {},
   "source": [
    "## Hill Climbing\n",
    "\n",
    "- Search for a solution or solve optimization problem\n",
    "- Closely related to gradient descent\n",
    "    - does not require the gradient\n",
    "    - Iteratively test new candidate solutions in the region of a candidate\n",
    "- Adopt the new ones only if they are an improvement\n",
    "- Quickly climb up to the first local optimum\n",
    "\n",
    "- (First improvment, Random Mutation, Steepest step) +  Hill climber\n",
    "\n",
    "### pseudo code\n",
    "1. n <- number of tweaks desired to sample the gradient\n",
    "1. S <- some initial candidate solution\n",
    "\n",
    "2. repeat\n",
    "    -  R <- Tweak(Copy(S))\n",
    "    - for n - 1  times:\n",
    "        - W <- Tweak(Copy(S))\n",
    "        - if Quality(W) > Quality(R):\n",
    "            - R := W\n",
    "    - if Quality(R) >  Quality(S):\n",
    "        - S := R\n"
   ]
  },
  {
   "cell_type": "markdown",
   "metadata": {},
   "source": []
  },
  {
   "cell_type": "markdown",
   "metadata": {},
   "source": [
    "## ES"
   ]
  },
  {
   "cell_type": "markdown",
   "metadata": {},
   "source": [
    "### Self-adaptation\n",
    "\n",
    "Add $\\sigma$ to the list of parameters (v1,...,vn, $\\sigma$)\n",
    "\n",
    "Mutate $\\sigma$ and v in different steps\n",
    "\n",
    "- learning rate: $\\tau \\sim 1/\\sqrt{n}$\n",
    "- $\\sigma' = \\sigma . e ^ {\\tau N(0,1)} $\n"
   ]
  },
  {
   "cell_type": "markdown",
   "metadata": {},
   "source": [
    "## Evolution \n",
    "\n",
    "- Accumulation of tiny variations\n",
    "\n",
    "- Evolution is a sequence of two contributions:\n",
    "    - Variations (Random)\n",
    "    - Selection (Deterministic)\n",
    "\n",
    "- In evolution, changes are not designed but evalutated\n",
    "\n",
    "- Evolution is not an optimization process\n",
    "- Evolution does not have a goal\n",
    "- Evolution does not favor strength\n",
    "- Evolution does not favor intelligence\n",
    "\n",
    "### Essential of Evolutionary Algorithm\n",
    "\n",
    "- Candidate solution -> Individual\n",
    "- Set of candidate solutions -> Population\n",
    "- Ability to solve the problem -> Fitness\n",
    "- Sequence of steps -> Generations\n",
    "\n",
    "- Individual -> Encode a potential solution for the problem\n",
    "- Parent selection\n",
    "- Genetic Operators\n",
    "- Evaluation -> Survival Selection"
   ]
  },
  {
   "cell_type": "markdown",
   "metadata": {},
   "source": [
    "### Evolution Strategies\n",
    "\n",
    "- Darwin as an optimization tool\n",
    "\n",
    "- Modern ES do include recombination:\n",
    "    - ($\\mu (parental pop size) / \\rho (parental pop for comb) , \\lambda(offspring)$) discard original one\n",
    "    - ($\\mu / \\rho + \\lambda$)\n",
    "\n",
    "- Strong causality : small change small effect\n",
    "- Uniform crossover\n",
    "- Averagin crossover"
   ]
  },
  {
   "cell_type": "markdown",
   "metadata": {},
   "source": [
    "### Genetic Algorithm\n",
    "\n",
    "- Agenda:\n",
    "    - Individual encoding\n",
    "    - Parent selection\n",
    "    - Survival selection\n",
    "    - Genetic operators\n",
    "    - Convergence\n",
    "    - Termination\n",
    "\n",
    "- Classical encodings:\n",
    "    - Bit strings\n",
    "    - Integers\n",
    "    - Real numbers\n",
    "    - Permutation\n",
    "\n",
    "- Unique representation\n",
    "- Infeasible solutions\n",
    "- Terminology:\n",
    "    - Individual\n",
    "    - Chromosome\n",
    "    - Genome\n",
    "    - Gene\n",
    "    - Locus\n",
    "    - Allel\n",
    "\n",
    "- Offspring\n",
    "    - No gender distinction\n",
    "    - Genetic operators (Genome level)\n",
    "        - Recombination\n",
    "        - Mutation\n",
    "    - The offspring must inherit the main characteristics of the parents\n",
    "\n",
    "- Crossover + Mutation + Survival Selection\n",
    "- Parental Selection: \n",
    "    1. (Roulette wheel )\n",
    "    - Fitness proportional\n",
    "    - Fitness windowing\n",
    "    - Fitness ranking\n",
    "\n",
    "    2. Tournament\n",
    "    3. Pressure\n",
    "    4. Exploration vs Exploitation\n"
   ]
  },
  {
   "cell_type": "markdown",
   "metadata": {},
   "source": []
  }
 ],
 "metadata": {
  "kernelspec": {
   "display_name": "CI2023",
   "language": "python",
   "name": "python3"
  },
  "language_info": {
   "codemirror_mode": {
    "name": "ipython",
    "version": 3
   },
   "file_extension": ".py",
   "mimetype": "text/x-python",
   "name": "python",
   "nbconvert_exporter": "python",
   "pygments_lexer": "ipython3",
   "version": "3.11.5"
  }
 },
 "nbformat": 4,
 "nbformat_minor": 2
}
