{
 "cells": [
  {
   "cell_type": "markdown",
   "metadata": {},
   "source": [
    "# Single-State Local Search\n"
   ]
  },
  {
   "cell_type": "markdown",
   "metadata": {},
   "source": [
    "\n",
    "- Sometimes we are only interested in the solution \n",
    "- Start with a state (possibly illegal)\n",
    "- Iteratively improve/patch it in the neighboring states\n",
    "- Boldly go toward the goal (A* search) vs Wandering around"
   ]
  },
  {
   "cell_type": "markdown",
   "metadata": {},
   "source": [
    "## Hill Climbing\n",
    "\n",
    "- Search for a solution or solve optimization problem\n",
    "- Closely related to gradient descent\n",
    "    - does not require the gradient\n",
    "    - Iteratively test new candidate solutions in the region of a candidate\n",
    "- Adopt the new ones only if they are an improvement\n",
    "- Quickly climb up to the first local optimum\n",
    "\n",
    "- (First improvment, Random Mutation, Steepest step) +  Hill climber\n",
    "\n",
    "### pseudo code\n",
    "1. n <- number of tweaks desired to sample the gradient\n",
    "1. S <- some initial candidate solution\n",
    "\n",
    "2. repeat\n",
    "    -  R <- Tweak(Copy(S))\n",
    "    - for n - 1  times:\n",
    "        - W <- Tweak(Copy(S))\n",
    "        - if Quality(W) > Quality(R):\n",
    "            - R := W\n",
    "    - if Quality(R) >  Quality(S):\n",
    "        - S := R\n"
   ]
  },
  {
   "cell_type": "code",
   "execution_count": null,
   "metadata": {
    "vscode": {
     "languageId": "plaintext"
    }
   },
   "outputs": [],
   "source": []
  },
  {
   "cell_type": "code",
   "execution_count": null,
   "metadata": {
    "vscode": {
     "languageId": "plaintext"
    }
   },
   "outputs": [],
   "source": []
  }
 ],
 "metadata": {
  "language_info": {
   "name": "python"
  }
 },
 "nbformat": 4,
 "nbformat_minor": 2
}
